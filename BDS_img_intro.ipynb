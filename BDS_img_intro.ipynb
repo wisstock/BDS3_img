{
 "cells": [
  {
   "cell_type": "markdown",
   "metadata": {},
   "source": [
    "BDS^3\n",
    "=====\n",
    "\n",
    "## Вступ до аналізу біологічних зобраржень на Python\n",
    "---\n",
    "\n",
    "- Завантаження зображень\n",
    "- Структура зображень в Python, масиви\n",
    "- Відображення картинок matplotlib та кольорові маски\n",
    "- Гістограма зображення\n",
    "- Логічна індексація зображень та маски\n",
    "- Пошук оптимального порогу для побудови маски\n",
    "- Фільтрація маски, морфологічні оператори\n",
    "- Сегментація маски та отримання лейблів окремих об'єктів на зображенні"
   ]
  },
  {
   "cell_type": "code",
   "execution_count": null,
   "metadata": {},
   "outputs": [],
   "source": [
    "import numpy as np\n",
    "import skimage\n",
    "import matplotlib.pyplot as plt"
   ]
  }
 ],
 "metadata": {
  "language_info": {
   "name": "python"
  },
  "orig_nbformat": 4
 },
 "nbformat": 4,
 "nbformat_minor": 2
}
