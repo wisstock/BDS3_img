{
 "cells": [
  {
   "attachments": {},
   "cell_type": "markdown",
   "metadata": {},
   "source": [
    "BDS^3\n",
    "=====\n",
    "\n",
    "## Реконструкція біофізичних властивостей кальцій-зв'язуючих білків за результами конфокальної мікроскопії\n",
    "---\n",
    "_Borys Olifirov, 07.2023, Uzhhorod_"
   ]
  },
  {
   "cell_type": "code",
   "execution_count": null,
   "metadata": {},
   "outputs": [],
   "source": [
    "import os\n",
    "import sys\n",
    "\n",
    "import matplotlib.pyplot as plt\n",
    "import matplotlib.patches as patches\n",
    "from matplotlib import colors\n",
    "from matplotlib.colors import LinearSegmentedColormap\n",
    "\n",
    "import sympy as sp\n",
    "\n",
    "import numpy as np\n",
    "from numpy import ma\n",
    "\n",
    "from skimage import io\n",
    "from skimage import filters\n",
    "from skimage import measure\n",
    "from skimage import morphology\n",
    "\n",
    "from scipy.ndimage import measurements\n",
    "from scipy import signal"
   ]
  },
  {
   "attachments": {},
   "cell_type": "markdown",
   "metadata": {},
   "source": [
    "# 1. Біофізика процесу зв'язування іонів кальцію\n",
    "---"
   ]
  },
  {
   "attachments": {},
   "cell_type": "markdown",
   "metadata": {},
   "source": [
    "## Зв'язування одного ліганду. Ізотерма Ленгмюра"
   ]
  },
  {
   "attachments": {},
   "cell_type": "markdown",
   "metadata": {},
   "source": [
    "Рівняння зв'язування білком __P__ одного ліганда __L__ (реакція другого порядку):\n",
    "$$\n",
    "P + L \\rightleftharpoons PL\n",
    "$$\n",
    "\n",
    "Загальна концентрація білка (__[P]0__) та ліганда (__[L]0__) є сумої концентрації їх вільних (__[P]__, __[L]__) та зв'язаних (__[PL]__) форм:\n",
    "$$\n",
    "[P]_0 = [P] + [PL] \\\\\n",
    "[L]_0 = [L] + [PL]\n",
    "$$\n",
    "\n",
    "\n",
    "$$\n",
    "K_d = \\frac{[P] \\cdot [L]}{[PL]}\n",
    "$$\n",
    "\n",
    "\n",
    "\n",
    "\n",
    "In terms of the concentration of protein bounded form __[PL]__ or fraction of bound protein __Y__ we can rewrite the equation:\n",
    "$$\n",
    "Y = \\frac{[PL]}{[P]_0}\n",
    "$$\n",
    "\n",
    "$$\n",
    "[PL] = [P]_0 \\frac{[L]}{K_d + [L]} \\Leftrightarrow Y = \\frac{[L]}{K_d + [L]} \n",
    "$$"
   ]
  },
  {
   "cell_type": "code",
   "execution_count": null,
   "metadata": {},
   "outputs": [],
   "source": [
    "# параметри моделі\n",
    "Kd_1_val = 0.05\n",
    "Kd_2_val = 0.25\n",
    "Kd_3_val = 0.8\n",
    "\n",
    "c_l = np.arange(0, 1, 0.01)  # масив значень концентранції ліганда, від 0 до 1\n",
    "\n",
    "# модель рівняння Ленгмюра\n",
    "K_d, C_L = sp.symbols('K_a, C_l')\n",
    "Y = sp.Function('Y')(C_L)\n",
    "lang_eq = sp.Eq(Y, C_L/(C_L + K_d))\n",
    "\n",
    "sp.pprint(lang_eq)\n",
    "\n",
    "lang_eq_sol_Kd_1 = sp.lambdify(C_L, lang_eq.subs({K_d: Kd_1_val}).rhs, 'numpy') \n",
    "lang_eq_sol_Kd_2 = sp.lambdify(C_L, lang_eq.subs({K_d: Kd_2_val}).rhs, 'numpy') \n",
    "lang_eq_sol_Kd_3 = sp.lambdify(C_L, lang_eq.subs({K_d: Kd_3_val}).rhs, 'numpy') \n",
    "\n",
    "# відображення графіків\n",
    "plt.figure(figsize=(15,6))\n",
    "plt.plot(c_l, lang_eq_sol_Kd_1(c_l), label=f'Kd={Kd_1_val}')\n",
    "plt.vlines(x=Kd_1_val, ymin=0, ymax=0.5, linestyles='--')\n",
    "\n",
    "plt.plot(c_l, lang_eq_sol_Kd_2(c_l), label=f'Kd={Kd_2_val}')\n",
    "plt.vlines(x=Kd_2_val, ymin=0, ymax=0.5, linestyles='--')\n",
    "\n",
    "plt.plot(c_l, lang_eq_sol_Kd_3(c_l), label=f'Kd={Kd_3_val}')\n",
    "plt.vlines(x=Kd_3_val, ymin=0, ymax=0.5, linestyles='--')\n",
    "\n",
    "plt.hlines(y=0.5, xmin=0, xmax=Kd_3_val, linestyles='--', color='k')\n",
    "\n",
    "plt.xlim([0, 1])\n",
    "plt.xlabel('[L]')\n",
    "\n",
    "plt.ylim([0, 1])\n",
    "plt.ylabel('Y')\n",
    "\n",
    "plt.legend()\n",
    "plt.show()"
   ]
  },
  {
   "attachments": {},
   "cell_type": "markdown",
   "metadata": {},
   "source": [
    "## Зв'язування декілької лігандів та кооперетивність. Рівняння Хіла"
   ]
  },
  {
   "attachments": {},
   "cell_type": "markdown",
   "metadata": {},
   "source": [
    "$$\n",
    "Y = \\frac{[L]^h}{K_d + [L]^h} = \\frac{[L]^h}{K_A^n + [L]^h}\n",
    "$$\n",
    "\n",
    "$$\n",
    "\\log(\\frac{Y}{1-Y}) = h \\log[L] + \\log K_A\n",
    "$$"
   ]
  },
  {
   "cell_type": "code",
   "execution_count": null,
   "metadata": {},
   "outputs": [],
   "source": [
    "# c_l = np.arange(0, 1, 0.01)\n",
    "h_list = [1, 1.5, 2, 5]\n",
    "K_A_val = 0.25\n",
    "\n",
    "h, K_A, C_L = sp.symbols('h  K_a C_ion')\n",
    "Y = sp.Function('Y')(C_L)\n",
    "hill_eq = sp.Eq(Y, C_L**h/(K_A**h + C_L**h))\n",
    "hill_eq_ln = sp.Eq(sp.log(Y/(1-Y)), h * sp.log(C_L) + sp.log(K_A))\n",
    "\n",
    "sp.pprint(hill_eq, use_unicode=True)\n",
    "sp.pprint(hill_eq_ln, use_unicode=True)\n",
    "\n",
    "hill_profiles_dict = {}\n",
    "hill_ln_dict = {}\n",
    "for h_val in h_list:\n",
    "\thill_eq_sol = sp.lambdify(C_L, hill_eq.subs({h : h_val, K_A : 0.25}).rhs, \"numpy\")\n",
    "\thill_ln_sol = sp.lambdify(C_L, hill_eq_ln.subs({h : h_val, K_A : 0.25}).rhs, \"numpy\")\n",
    "\thill_profiles_dict.update({h_val:hill_eq_sol(c_l)})\n",
    "\thill_ln_dict.update({h_val:hill_ln_sol(c_l)})\n",
    "\n",
    "# відображення графіків\n",
    "plt.figure(figsize=(15,6))\n",
    "for h_prof in hill_profiles_dict.keys():\n",
    "\tplt.plot(c_l, hill_profiles_dict[h_prof], label=f'h={h_prof}')\n",
    "\n",
    "plt.xlim([0, 1])\n",
    "plt.xlabel('[L]')\n",
    "\n",
    "plt.ylim([0, 1])\n",
    "plt.ylabel('Y')\n",
    "\n",
    "plt.legend()\n",
    "plt.show()\n",
    "\n",
    "# plt.figure(figsize=(15,6))\n",
    "# for h_prof in hill_ln_dict.keys():\n",
    "# \tplt.plot(c_l, hill_ln_dict[h_prof], label=f'h={h_prof}')\n",
    "\n",
    "# plt.xlabel('log([L])')\n",
    "# plt.ylabel('log(Y/(1-Y))')\n",
    "\n",
    "# plt.legend()\n",
    "# plt.show()"
   ]
  },
  {
   "cell_type": "code",
   "execution_count": null,
   "metadata": {},
   "outputs": [],
   "source": [
    "n, K_D, C_ca = sp.symbols('n  K_a C_ion')\n",
    "Y = sp.Function('Y')(C_ca)\n",
    "hill_eq = sp.Eq(Y, C_ca**n/(K_D + C_ca**n))\n",
    "hill_sol_assemblage = [sp.lambdify(C_ca, hill_eq.subs({n : n_val, K_D : 0.25}).rhs, \"numpy\") for n_val in [1, 2, 3, 4]]\n",
    "\n",
    "sp.pprint(hill_eq, use_unicode=True)\n",
    "\n",
    "# відображення графіків\n",
    "plt.figure(figsize=(15,6))\n",
    "for i in range(0, len(hill_sol_assemblage)):\n",
    "\tplt.plot(c_l, hill_sol_assemblage[i](c_l), label=f'n={[1, 1.5, 2, 5][i]}')\n",
    "\n",
    "plt.xlim([0, 1])\n",
    "plt.xlabel('[L]')\n",
    "\n",
    "plt.ylim([0, 1])\n",
    "plt.ylabel('Y')\n",
    "\n",
    "plt.legend()\n",
    "plt.show()"
   ]
  },
  {
   "attachments": {},
   "cell_type": "markdown",
   "metadata": {},
   "source": [
    "## Похибка рівння Хіла. Рівняння Адера\n",
    "\n",
    "$$\n",
    "$$"
   ]
  },
  {
   "attachments": {},
   "cell_type": "markdown",
   "metadata": {},
   "source": [
    "# 2. Багатовимірні массиви та структура мікроскопічних даних\n",
    "---"
   ]
  },
  {
   "attachments": {},
   "cell_type": "markdown",
   "metadata": {},
   "source": [
    "## Приклади"
   ]
  },
  {
   "attachments": {},
   "cell_type": "markdown",
   "metadata": {},
   "source": [
    "## Аналіз даних"
   ]
  },
  {
   "attachments": {},
   "cell_type": "markdown",
   "metadata": {},
   "source": [
    "#### Завантаження зображень та розділення каналів"
   ]
  },
  {
   "cell_type": "code",
   "execution_count": null,
   "metadata": {},
   "outputs": [],
   "source": [
    "# завантаження зображень\n",
    "img_raw = io.imread(\"data/cell6.tif\")\n",
    "print(img_raw.shape)\n",
    "\n",
    "\n",
    "# розділення окремих каналів\n",
    "ch0_img_raw = img_raw[0]\n",
    "ch1_img_raw = img_raw[1]\n",
    "print(ch0_img_raw.shape) "
   ]
  },
  {
   "attachments": {},
   "cell_type": "markdown",
   "metadata": {},
   "source": [
    "#### Проекції серії знімків"
   ]
  },
  {
   "attachments": {},
   "cell_type": "markdown",
   "metadata": {},
   "source": [
    "Проекція максимальної інтенсивності пікселів"
   ]
  },
  {
   "cell_type": "code",
   "execution_count": null,
   "metadata": {},
   "outputs": [],
   "source": [
    "# проекції максимума для окремих каналів\n",
    "ch0_img_raw_max = np.max(ch0_img_raw, axis=0)\n",
    "ch1_img_raw_max = np.max(ch1_img_raw, axis=0)\n",
    "\n",
    "\n",
    "# plot\n",
    "plt.figure(figsize=(12,6))\n",
    "\n",
    "ax0 = plt.subplot(121)  # зображення каналу 1\n",
    "ax0.imshow(ch0_img_raw_max)\n",
    "ax0.set_title('Ch0')\n",
    "ax0.axis('off')\n",
    "\n",
    "ax1 = plt.subplot(122)  # зображення каналу 2\n",
    "ax1.imshow(ch1_img_raw_max)\n",
    "ax1.set_title('Ch1')\n",
    "ax1.axis('off')\n",
    "\n",
    "plt.suptitle('Max projection')\n",
    "plt.tight_layout()\n",
    "plt.show()"
   ]
  },
  {
   "attachments": {},
   "cell_type": "markdown",
   "metadata": {},
   "source": [
    "Проекція середньої інтенсивності пікселів"
   ]
  },
  {
   "cell_type": "code",
   "execution_count": null,
   "metadata": {},
   "outputs": [],
   "source": [
    "# проекції максимума для окремих каналів\n",
    "ch0_img_raw_mean = np.mean(ch0_img_raw, axis=0)\n",
    "ch1_img_raw_mean = np.mean(ch1_img_raw, axis=0)\n",
    "\n",
    "\n",
    "# plot\n",
    "plt.figure(figsize=(12,6))\n",
    "\n",
    "ax0 = plt.subplot(121)  # зображення каналу 1\n",
    "ax0.imshow(ch0_img_raw_mean)\n",
    "ax0.set_title('Ch0')\n",
    "ax0.axis('off')\n",
    "\n",
    "ax1 = plt.subplot(122)  # зображення каналу 2\n",
    "ax1.imshow(ch1_img_raw_mean)\n",
    "ax1.set_title('Ch1')\n",
    "ax1.axis('off')\n",
    "\n",
    "plt.suptitle('Mean projection')\n",
    "plt.tight_layout()\n",
    "plt.show()"
   ]
  },
  {
   "attachments": {},
   "cell_type": "markdown",
   "metadata": {},
   "source": [
    "#### Кроп серії зображення"
   ]
  },
  {
   "attachments": {},
   "cell_type": "markdown",
   "metadata": {},
   "source": [
    "Вибір регіону клітини в кадрі"
   ]
  },
  {
   "cell_type": "code",
   "execution_count": null,
   "metadata": {},
   "outputs": [],
   "source": [
    "# регіон кропу\n",
    "# x_start, x_end, y_start, y_end = 5, 160, 20, 190  # для файлу cell5\n",
    "x_start, x_end, y_start, y_end = 10, 180, 100, 155  # для файлу cell6\n",
    "# x_start, x_end, y_start, y_end = 40, 200, 100, 120  # для файлу cell7\n",
    "\n",
    "\n",
    "crop_rect = patches.Rectangle((y_start, x_start), y_end, x_end,\n",
    "                              linewidth=1.5, edgecolor='white', facecolor='none')\n",
    "\n",
    "fig, ax = plt.subplots(figsize=(10,10))\n",
    "ax.imshow(ch0_img_raw_mean)\n",
    "ax.add_patch(crop_rect)\n",
    "plt.show()"
   ]
  },
  {
   "attachments": {},
   "cell_type": "markdown",
   "metadata": {},
   "source": [
    "Кроп всієї серії зображень для кожного з каналів"
   ]
  },
  {
   "cell_type": "code",
   "execution_count": null,
   "metadata": {},
   "outputs": [],
   "source": [
    "ch0_img_raw_crop = ch0_img_raw[:, x_start:x_start+x_end, y_start:y_start+y_end]\n",
    "ch1_img_raw_crop = ch1_img_raw[:, x_start:x_start+x_end, y_start:y_start+y_end]\n",
    "print(ch0_img_raw_crop.shape)\n",
    "\n",
    "\n",
    "# plot\n",
    "plt.figure(figsize=(10,10))\n",
    "plt.imshow(np.mean(ch0_img_raw_crop, axis=0))\n",
    "plt.show()"
   ]
  },
  {
   "attachments": {},
   "cell_type": "markdown",
   "metadata": {},
   "source": [
    "# 3. Фільтри, маски та морфологічні оператори\n",
    "---"
   ]
  },
  {
   "attachments": {},
   "cell_type": "markdown",
   "metadata": {},
   "source": [
    "## Приклади\n",
    "\n",
    "- Стркуктурний елемент\n",
    "- Згортка\n",
    "- Медіанний фільтр та фільтр Гаусу\n",
    "- Фіксований поріг та булева маска\n",
    "- Гістограма зображення\n",
    "- Ерозія та діляція\n",
    "- Відкривання та закривання"
   ]
  },
  {
   "attachments": {},
   "cell_type": "markdown",
   "metadata": {},
   "source": [
    "## Аналіз даних"
   ]
  },
  {
   "attachments": {},
   "cell_type": "markdown",
   "metadata": {},
   "source": [
    "#### Детекція та сегментація клітини з використанням мульти-Отсу"
   ]
  },
  {
   "attachments": {},
   "cell_type": "markdown",
   "metadata": {},
   "source": [
    "\"Контрольне\" зображення для детекції клітини"
   ]
  },
  {
   "cell_type": "code",
   "execution_count": null,
   "metadata": {},
   "outputs": [],
   "source": [
    "# контрольне зображення для детекції\n",
    "cell_det_img_raw = np.mean(ch0_img_raw_crop, axis=0)\n",
    "\n",
    "# фільтрування контрольного зображення\n",
    "cell_det_img = filters.gaussian(cell_det_img_raw, sigma=1)\n",
    "\n",
    "\n",
    "# plot\n",
    "plt.figure(figsize=(12,6))\n",
    "\n",
    "ax0 = plt.subplot(121)  # сире контрольне зображення\n",
    "ax0.imshow(cell_det_img_raw)\n",
    "ax0.set_title('Raw')\n",
    "ax0.axis('off')\n",
    "\n",
    "ax1 = plt.subplot(122)  # контрольне зображення після застосування фільтра Гауса\n",
    "ax1.imshow(cell_det_img)\n",
    "ax1.set_title('Gaussian filter')\n",
    "ax1.axis('off')\n",
    "\n",
    "plt.suptitle('Ctrl img')\n",
    "plt.tight_layout()\n",
    "plt.show()"
   ]
  },
  {
   "attachments": {},
   "cell_type": "markdown",
   "metadata": {},
   "source": [
    "Обчислення порогів мульти-Отсу"
   ]
  },
  {
   "cell_type": "code",
   "execution_count": null,
   "metadata": {},
   "outputs": [],
   "source": [
    "# отримання порогів мульти-Отсу\n",
    "thresholds = filters.threshold_multiotsu(cell_det_img)\n",
    "print(thresholds)\n",
    "\n",
    "# розмежування регіонів за пороговими значеннями\n",
    "regions_img = np.digitize(cell_det_img, bins=thresholds)\n",
    "\n",
    "\n",
    "# plot\n",
    "plt.figure(figsize=(10,10))\n",
    "plt.imshow(regions_img)  # регіони за порогами мульти-Отсу\n",
    "plt.suptitle('Multi-Otsu regions')\n",
    "plt.axis('off')\n",
    "plt.show()"
   ]
  },
  {
   "attachments": {},
   "cell_type": "markdown",
   "metadata": {},
   "source": [
    "Побудова масок окремих регіонів"
   ]
  },
  {
   "cell_type": "code",
   "execution_count": null,
   "metadata": {},
   "outputs": [],
   "source": [
    "# булеві маски окремих регіонів\n",
    "cytoplasm_mask_raw = regions_img == 1\n",
    "nucleus_mask_raw = regions_img == 2\n",
    "\n",
    "\n",
    "# plot\n",
    "plt.figure(figsize=(12,6))\n",
    "\n",
    "ax0 = plt.subplot(121)  # регіон цитоплазми\n",
    "ax0.imshow(cytoplasm_mask_raw)\n",
    "ax0.set_title('Cytoplasm region')\n",
    "ax0.axis('off')\n",
    "\n",
    "ax1 = plt.subplot(122)  # регіон ядра\n",
    "ax1.imshow(nucleus_mask_raw)\n",
    "ax1.set_title('Nucleus region')\n",
    "ax1.axis('off')\n",
    "\n",
    "plt.suptitle('Multi-Otsu separate rigons')\n",
    "plt.tight_layout()\n",
    "plt.show()"
   ]
  },
  {
   "attachments": {},
   "cell_type": "markdown",
   "metadata": {},
   "source": [
    "#### Побудова масок цитоплазматичного регіону клітини та цілої клітини"
   ]
  },
  {
   "attachments": {},
   "cell_type": "markdown",
   "metadata": {},
   "source": [
    "Модифікація регіонів"
   ]
  },
  {
   "cell_type": "code",
   "execution_count": null,
   "metadata": {},
   "outputs": [],
   "source": [
    "cytoplasm_mask = morphology.dilation(cytoplasm_mask_raw, footprint=morphology.disk(5))\n",
    "nucleus_mask = morphology.opening(nucleus_mask_raw, footprint=morphology.disk(10))\n",
    "\n",
    "\n",
    "# plot\n",
    "plt.figure(figsize=(12,6))\n",
    "\n",
    "ax0 = plt.subplot(121)  # регіон цитоплазми\n",
    "ax0.imshow(cytoplasm_mask)\n",
    "ax0.set_title('Cytoplasm region after diltaion')\n",
    "ax0.axis('off')\n",
    "\n",
    "ax1 = plt.subplot(122)  # \"роздутий\" регіон цитоплазми\n",
    "ax1.imshow(nucleus_mask)\n",
    "ax1.set_title('Nucleus region after closing')\n",
    "ax1.axis('off')\n",
    "\n",
    "plt.tight_layout()\n",
    "plt.show()"
   ]
  },
  {
   "attachments": {},
   "cell_type": "markdown",
   "metadata": {},
   "source": [
    "Корегування фінальної маски цитоплазматичного регіону та побудова маски цілої клітини"
   ]
  },
  {
   "cell_type": "code",
   "execution_count": null,
   "metadata": {},
   "outputs": [],
   "source": [
    "cytoplasm_mask[nucleus_mask] = 0\n",
    "cell_mask = cytoplasm_mask + nucleus_mask\n",
    "\n",
    "\n",
    "# plot\n",
    "plt.figure(figsize=(12,6))\n",
    "\n",
    "ax0 = plt.subplot(121)  # маска цитоплазматичног регіона\n",
    "ax0.imshow(cytoplasm_mask)\n",
    "ax0.set_title('Final cytoplasm region mask')\n",
    "ax0.axis('off')\n",
    "\n",
    "ax1 = plt.subplot(122)  # маска цілої клітини\n",
    "ax1.imshow(cell_mask)\n",
    "ax1.set_title('Final whole-cell mask')\n",
    "ax1.axis('off')\n",
    "\n",
    "plt.suptitle('Finak masks')\n",
    "plt.tight_layout()\n",
    "plt.show()"
   ]
  },
  {
   "attachments": {},
   "cell_type": "markdown",
   "metadata": {},
   "source": [
    "#### Фільтрування серій зображень обох каналів перед подальшою обробкою"
   ]
  },
  {
   "cell_type": "code",
   "execution_count": null,
   "metadata": {},
   "outputs": [],
   "source": [
    "sigma = 0.75  # значення середньоквадратичного відхилення для фільтра Гауса\n",
    "\n",
    "ch0_img_filtered = filters.gaussian(ch0_img_raw_crop, sigma=sigma, channel_axis=0)\n",
    "ch1_img_filtered = filters.gaussian(ch1_img_raw_crop, sigma=sigma, channel_axis=0)\n",
    "\n",
    "\n",
    "# plot\n",
    "plt.figure(figsize=(12,12))\n",
    "\n",
    "ax0 = plt.subplot(221)  # проекція середньої інтенсивності сирої серії зображень канала кальцієвого барвника\n",
    "ax0.imshow(np.mean(ch0_img_raw_crop, axis=0))\n",
    "ax0.set_title('Raw Ch0 mean projection')\n",
    "ax0.axis('off')\n",
    "\n",
    "ax1 = plt.subplot(222)  # проекція середньої інтенсивності сирої серії зображень канала флуоресцентного білка\n",
    "ax1.imshow(np.mean(ch1_img_raw_crop, axis=0))\n",
    "ax1.set_title('Raw Ch1 mean projection')\n",
    "ax1.axis('off')\n",
    "\n",
    "ax2 = plt.subplot(223)  # проекція середньої інтенсивності серії зображень канала кальцієвого барвника після фільтрування\n",
    "ax2.imshow(np.mean(ch0_img_filtered, axis=0))\n",
    "ax2.set_title(f'Filtere Ch0 mean projection (sigma={sigma})')\n",
    "ax2.axis('off')\n",
    "\n",
    "ax3 = plt.subplot(224)  # проекція середньої інтенсивності серії зображень канала флуоресцентного білка після фільтрування\n",
    "ax3.imshow(np.mean(ch1_img_filtered, axis=0))\n",
    "ax3.set_title(f'Filtere Ch1 mean projection (sigma={sigma})')\n",
    "ax3.axis('off')\n",
    "\n",
    "plt.tight_layout()\n",
    "plt.show()"
   ]
  },
  {
   "attachments": {},
   "cell_type": "markdown",
   "metadata": {},
   "source": [
    "# 4. Детекція регіонів зміни інтенсивності\n",
    "---"
   ]
  },
  {
   "attachments": {},
   "cell_type": "markdown",
   "metadata": {},
   "source": [
    "## Приклади"
   ]
  },
  {
   "attachments": {},
   "cell_type": "markdown",
   "metadata": {},
   "source": [
    "## Аналіз даних"
   ]
  },
  {
   "attachments": {},
   "cell_type": "markdown",
   "metadata": {},
   "source": [
    "#### Профіль похідної інтенсивності для визначення кадрів із стимуляціями "
   ]
  },
  {
   "attachments": {},
   "cell_type": "markdown",
   "metadata": {},
   "source": [
    "Маскування клітини"
   ]
  },
  {
   "cell_type": "code",
   "execution_count": null,
   "metadata": {},
   "outputs": [],
   "source": [
    "masked = ma.masked_where(~cytoplasm_mask, cell_det_img)\n",
    "\n",
    "\n",
    "# plot\n",
    "plt.figure(figsize=(10,10))\n",
    "plt.imshow(masked)  # цитоплазамтичний регіон контрольного зображення канала кальцієвого барвника\n",
    "plt.suptitle('Masked img')\n",
    "plt.axis('off')\n",
    "plt.show()"
   ]
  },
  {
   "attachments": {},
   "cell_type": "markdown",
   "metadata": {},
   "source": [
    "Профіль вицвітання в каналі флуоресцентного білка"
   ]
  },
  {
   "cell_type": "code",
   "execution_count": null,
   "metadata": {},
   "outputs": [],
   "source": [
    "ch0_tot_prof = np.mean(ch0_img_filtered, axis=(1,2))  # профіль загальної інтенсивності для канала 0\n",
    "\n",
    "ch0_der_prof = np.asarray([np.sum(np.abs(ma.masked_where(~cell_mask, frame)))\n",
    "                           for frame in (ch0_img_filtered[:-1] - ch0_img_filtered[1:])])\n",
    "\n",
    "\n",
    "plt.plot(ch0_tot_prof[1:])\n",
    "plt.plot(ch0_der_prof)"
   ]
  },
  {
   "cell_type": "code",
   "execution_count": null,
   "metadata": {},
   "outputs": [],
   "source": [
    "ch0_tot_prof_norm = (ch0_tot_prof - np.min(ch0_tot_prof))/(np.max(ch0_tot_prof)-np.min(ch0_tot_prof))\n",
    "ch0_der_prof_norm = (ch0_der_prof - np.min(ch0_der_prof))/(np.max(ch0_der_prof)-np.min(ch0_der_prof))\n",
    "\n",
    "\n",
    "plt.plot(ch0_tot_prof_norm[1:])\n",
    "plt.plot(ch0_der_prof_norm)"
   ]
  },
  {
   "cell_type": "code",
   "execution_count": null,
   "metadata": {},
   "outputs": [],
   "source": [
    "ch1_tot_int_profile = np.mean(ch1_img_filtered, axis=(1,2))\n",
    "\n",
    "ch1_native_int = np.mean(np.mean(ch1_img_filtered[:3], axis=0))\n",
    "print(ch1_native_int)"
   ]
  },
  {
   "cell_type": "code",
   "execution_count": null,
   "metadata": {},
   "outputs": [],
   "source": [
    "ch1_corr = np.asarray([frame * (ch1_native_int/np.sum(frame)) for frame in ch1_img_filtered])"
   ]
  },
  {
   "cell_type": "code",
   "execution_count": null,
   "metadata": {},
   "outputs": [],
   "source": [
    "ch1_corr.shape"
   ]
  },
  {
   "cell_type": "code",
   "execution_count": null,
   "metadata": {},
   "outputs": [],
   "source": [
    "# plt.plot(ch1_tot_int_profile)\n",
    "plt.plot(np.mean(ch1_corr, axis=(1,2)))"
   ]
  },
  {
   "attachments": {},
   "cell_type": "markdown",
   "metadata": {},
   "source": [
    "Маскування клітини"
   ]
  },
  {
   "cell_type": "code",
   "execution_count": null,
   "metadata": {},
   "outputs": [],
   "source": [
    "ch0_masked = np.asarray([ma.masked_where(~cytoplasm_mask, frame) for frame in ch0_img_filtered])\n",
    "ch1_masked = np.asarray([ma.masked_where(~cell_mask, frame) for frame in ch1_img_filtered])"
   ]
  },
  {
   "cell_type": "code",
   "execution_count": null,
   "metadata": {},
   "outputs": [],
   "source": [
    "plt.imshow(ch1_masked[10])"
   ]
  },
  {
   "attachments": {},
   "cell_type": "markdown",
   "metadata": {},
   "source": [
    "Побудова профілю похідної інтенсивності для всього кадру"
   ]
  },
  {
   "cell_type": "code",
   "execution_count": null,
   "metadata": {},
   "outputs": [],
   "source": [
    "ch0_der_prof = np.asarray([np.sum(np.abs(frame))\n",
    "                           for frame in (ch0_img_filtered[:-1] - ch0_img_filtered[1:])])\n",
    "\n",
    "ch1_der_prof = np.asarray([np.sum(np.abs(frame))\n",
    "                           for frame in (ch1_corr[:-1] - ch1_corr[1:])])\n",
    "\n",
    "# plt.plot(ch0_der_prof)\n",
    "plt.plot(ch1_der_prof)\n",
    "plt.show()"
   ]
  },
  {
   "attachments": {},
   "cell_type": "markdown",
   "metadata": {},
   "source": [
    "Побудова профілю похідної інтенсивності для маскованих регіонів"
   ]
  },
  {
   "cell_type": "code",
   "execution_count": null,
   "metadata": {},
   "outputs": [],
   "source": [
    "ch0_der_prof = np.asarray([np.sum(np.abs(ma.masked_where(~cell_mask, frame)))\n",
    "                           for frame in (ch0_img_filtered[:-1] - ch0_img_filtered[1:])])\n",
    "\n",
    "ch1_der_prof = np.asarray([np.sum(np.abs(ma.masked_where(~cell_mask, frame)))\n",
    "                           for frame in (ch1_corr[:-1] - ch1_corr[1:])])\n",
    "\n",
    "plt.plot(ch0_der_prof/np.linalg.norm(ch0_der_prof))\n",
    "plt.plot(ch1_der_prof/np.linalg.norm(ch1_der_prof))\n",
    "plt.show()"
   ]
  },
  {
   "attachments": {},
   "cell_type": "markdown",
   "metadata": {},
   "source": [
    "# 5. Побудова профілів за масками\n",
    "---"
   ]
  },
  {
   "attachments": {},
   "cell_type": "markdown",
   "metadata": {},
   "source": [
    "# 6. Оцінка параметрів за допомогою лінійної моделі\n",
    "---"
   ]
  },
  {
   "cell_type": "code",
   "execution_count": null,
   "metadata": {},
   "outputs": [],
   "source": [
    "img_raw = io.imread('post_rgeco_mov_cor.tif')\n",
    "img_bad = io.imread('post_rgeco.tif')\n",
    "\n",
    "plt.figure(figsize=(10,10))\n",
    "plt.imshow(np.max(img_bad, axis=0), cmap='jet')\n",
    "\n",
    "plt.figure(figsize=(10,10))\n",
    "plt.imshow(np.max(img_raw, axis=0), cmap='jet')\n",
    "\n",
    "img = np.array([filters.gaussian(frame) for frame in img_raw])\n",
    "\n",
    "print(img.shape)"
   ]
  },
  {
   "cell_type": "code",
   "execution_count": null,
   "metadata": {},
   "outputs": [],
   "source": [
    "th_y = filters.threshold_yen(np.max(img, axis=0))\n",
    "th_o = filters.threshold_otsu(np.max(img, axis=0))\n",
    "th_l = filters.threshold_li(np.max(img, axis=0))\n",
    "\n",
    "print(th_y, th_o, th_l)\n",
    "\n",
    "\n",
    "img_max = np.max(img, axis=0)\n",
    "plt.figure(figsize=(10,10))\n",
    "plt.imshow(img_max, cmap='jet')\n",
    "\n",
    "mask = img_max > th_y\n",
    "crop_mask = mask[100:200, 100:200]\n",
    "plt.figure(figsize=(10,10))\n",
    "plt.imshow(mask)\n",
    "\n",
    "label_mask = measure.label(mask)\n",
    "plt.figure(figsize=(10,10))\n",
    "plt.imshow(label_mask, cmap='jet')"
   ]
  },
  {
   "cell_type": "code",
   "execution_count": null,
   "metadata": {},
   "outputs": [],
   "source": [
    "area_dict = {}\n",
    "area_th = 150\n",
    "for label_number in range(1, np.max(label_mask)):\n",
    "    one_label_mask = label_mask == label_number\n",
    "    one_label_area = np.sum(one_label_mask)\n",
    "    \n",
    "    if one_label_area >= area_th:\n",
    "        label_area_dict = {label_number:one_label_area}\n",
    "        area_dict.update(label_area_dict)\n",
    "\n",
    "fin_mask = np.zeros_like(label_mask)\n",
    "for lable_key in area_dict.keys():\n",
    "     key_mask = label_mask == lable_key\n",
    "     fin_mask = fin_mask + key_mask\n",
    "\n",
    "fin_raw_mask = fin_mask\n",
    "fin_mask = morphology.dilation(fin_mask, footprint=morphology.disk(6))\n",
    "# plt.imshow(fin_raw_mask)\n",
    "plt.figure(figsize=(10,10))\n",
    "plt.imshow(fin_mask)\n",
    "\n",
    "\n",
    "fin_mask = measure.label(fin_mask)\n",
    "plt.figure(figsize=(10,10))\n",
    "plt.imshow(fin_mask)"
   ]
  },
  {
   "attachments": {},
   "cell_type": "markdown",
   "metadata": {},
   "source": [
    "#### Watershed segmentation"
   ]
  },
  {
   "cell_type": "code",
   "execution_count": null,
   "metadata": {},
   "outputs": [],
   "source": [
    "from scipy import ndimage as ndi\n",
    "\n",
    "from skimage.segmentation import watershed\n",
    "from skimage.feature import peak_local_max\n",
    "\n",
    "distance = ndi.distance_transform_cdt(fin_mask, metric='taxicab')\n",
    "plt.figure(figsize=(10,10))\n",
    "plt.imshow(distance)\n",
    "\n",
    "# ndi.distance_transform_cdt, metric='taxicab'\n",
    "\n",
    "coords = peak_local_max(distance, min_distance=15, footprint=morphology.disk(15), labels=fin_mask)\n",
    "mask = np.zeros(distance.shape, dtype=bool)\n",
    "mask[tuple(coords.T)] = True\n",
    "markers, _ = ndi.label(mask)\n",
    "labels = watershed(-distance, markers, mask=fin_mask)\n",
    "\n",
    "plt.figure(figsize=(10,10))\n",
    "plt.imshow(labels)"
   ]
  },
  {
   "attachments": {},
   "cell_type": "markdown",
   "metadata": {},
   "source": [
    "#### Profiles extration"
   ]
  },
  {
   "cell_type": "code",
   "execution_count": null,
   "metadata": {},
   "outputs": [],
   "source": [
    "# profile = [np.mean(ma.masked_where(-fin_mask, frame)) for frame in img_raw]\n",
    "\n",
    "plt.figure(figsize=(20, 8))\n",
    "\n",
    "prof_arr = []\n",
    "i = 0\n",
    "for label in range(1, np.max(labels)+1):\n",
    "    mask = labels == label\n",
    "    prof = [np.mean(ma.masked_where(~mask, frame)) for frame in img_raw]\n",
    "    prof_arr.append(prof)\n",
    "    plt.plot(prof, label=label)\n",
    "    i += 200\n",
    "\n",
    "plt.legend()\n",
    "plt.show()\n",
    "\n",
    "prof_arr = np.asarray(prof_arr)\n",
    "\n",
    "print(prof_arr.shape)\n"
   ]
  },
  {
   "attachments": {},
   "cell_type": "markdown",
   "metadata": {},
   "source": [
    "#### Demo labeling"
   ]
  },
  {
   "cell_type": "code",
   "execution_count": null,
   "metadata": {},
   "outputs": [],
   "source": [
    "demo_mask = np.array([[1, 0, 1, 0],\n",
    "                      [0, 0, 1, 1],\n",
    "                      [0, 1, 0, 0],\n",
    "                      [1, 0, 1, 0]])\n",
    "\n",
    "label_demo_mask = measure.label(demo_mask, connectivity=1)\n",
    "\n",
    "print(demo_mask)\n",
    "print(label_demo_mask)\n",
    "plt.imshow(label_demo_mask)"
   ]
  },
  {
   "attachments": {},
   "cell_type": "markdown",
   "metadata": {},
   "source": [
    "# Profile an"
   ]
  },
  {
   "attachments": {},
   "cell_type": "markdown",
   "metadata": {},
   "source": [
    "#### dF/F calc"
   ]
  },
  {
   "cell_type": "code",
   "execution_count": null,
   "metadata": {},
   "outputs": [],
   "source": [
    "dF_prof_arr = []\n",
    "for prof in prof_arr:\n",
    "    F_0 = np.mean(prof[0:50])\n",
    "    dF_prof = (prof - F_0)/F_0\n",
    "    dF_prof_arr.append(dF_prof)\n",
    "\n",
    "dF_prof_arr = np.asarray(dF_prof_arr)\n",
    "plt.figure(figsize=(20, 8))\n",
    "for dF_p in dF_prof_arr:\n",
    "    plt.plot(dF_p)\n",
    "plt.show()    \n",
    "    \n",
    "    "
   ]
  },
  {
   "attachments": {},
   "cell_type": "markdown",
   "metadata": {},
   "source": [
    "#### Peaks detection"
   ]
  },
  {
   "cell_type": "code",
   "execution_count": null,
   "metadata": {},
   "outputs": [],
   "source": [
    "one_profile = dF_prof_arr[2]\n",
    "\n",
    "peaks, properties = signal.find_peaks(one_profile,\n",
    "                                      height=0.2,\n",
    "                                      distance=5,\n",
    "                                      wlen=30,\n",
    "                                      prominence=0.15,\n",
    "                                      rel_height=0.5,\n",
    "                                      width=1)\n",
    "\n",
    "print(peaks)\n",
    "print(properties.keys())\n",
    "print(properties)"
   ]
  },
  {
   "cell_type": "code",
   "execution_count": null,
   "metadata": {},
   "outputs": [],
   "source": [
    "\n",
    "plt.figure(figsize=(20, 8))\n",
    "plt.plot(one_profile)\n",
    "plt.plot(peaks, one_profile[peaks], 'x')\n"
   ]
  }
 ],
 "metadata": {
  "kernelspec": {
   "display_name": "caiman",
   "language": "python",
   "name": "python3"
  },
  "language_info": {
   "codemirror_mode": {
    "name": "ipython",
    "version": 3
   },
   "file_extension": ".py",
   "mimetype": "text/x-python",
   "name": "python",
   "nbconvert_exporter": "python",
   "pygments_lexer": "ipython3",
   "version": "3.9.16"
  },
  "orig_nbformat": 4
 },
 "nbformat": 4,
 "nbformat_minor": 2
}
