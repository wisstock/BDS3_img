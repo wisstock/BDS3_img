{
 "cells": [
  {
   "attachments": {},
   "cell_type": "markdown",
   "metadata": {},
   "source": [
    "BDS^3\n",
    "=====\n",
    "\n",
    "## Quantitative microscopy\n",
    "#### Reconstruction of proteins' biophysical properties with live-cell imaging data\n",
    "---\n",
    "_Borys Olifirov, 07.2023, Uzhhorod_"
   ]
  },
  {
   "cell_type": "code",
   "execution_count": null,
   "metadata": {},
   "outputs": [],
   "source": [
    "import os\n",
    "import sys\n",
    "\n",
    "import matplotlib.pyplot as plt\n",
    "import numpy as np\n",
    "from numpy import ma\n",
    "\n",
    "from skimage import io\n",
    "from skimage import filters\n",
    "from skimage import measure\n",
    "from skimage import morphology\n",
    "\n",
    "from scipy.ndimage import measurements\n",
    "from scipy import signal"
   ]
  },
  {
   "attachments": {},
   "cell_type": "markdown",
   "metadata": {},
   "source": [
    "## 1. Biophysical properties of calcium ions binding process"
   ]
  },
  {
   "attachments": {},
   "cell_type": "markdown",
   "metadata": {},
   "source": [
    "## 2. Multidimensional arrays & structure of microscopic data "
   ]
  },
  {
   "attachments": {},
   "cell_type": "markdown",
   "metadata": {},
   "source": [
    "## 3. Filters, masks and morphology operations"
   ]
  },
  {
   "attachments": {},
   "cell_type": "markdown",
   "metadata": {},
   "source": [
    "## 4. Cell detection and segmentation"
   ]
  },
  {
   "attachments": {},
   "cell_type": "markdown",
   "metadata": {},
   "source": [
    "## 5. "
   ]
  },
  {
   "attachments": {},
   "cell_type": "markdown",
   "metadata": {},
   "source": [
    "## 6."
   ]
  },
  {
   "cell_type": "code",
   "execution_count": null,
   "metadata": {},
   "outputs": [],
   "source": [
    "img_raw = io.imread('post_rgeco_mov_cor.tif')\n",
    "img_bad = io.imread('post_rgeco.tif')\n",
    "\n",
    "plt.figure(figsize=(10,10))\n",
    "plt.imshow(np.max(img_bad, axis=0), cmap='jet')\n",
    "\n",
    "plt.figure(figsize=(10,10))\n",
    "plt.imshow(np.max(img_raw, axis=0), cmap='jet')\n",
    "\n",
    "img = np.array([filters.gaussian(frame) for frame in img_raw])\n",
    "\n",
    "print(img.shape)"
   ]
  },
  {
   "cell_type": "code",
   "execution_count": null,
   "metadata": {},
   "outputs": [],
   "source": [
    "th_y = filters.threshold_yen(np.max(img, axis=0))\n",
    "th_o = filters.threshold_otsu(np.max(img, axis=0))\n",
    "th_l = filters.threshold_li(np.max(img, axis=0))\n",
    "\n",
    "print(th_y, th_o, th_l)\n",
    "\n",
    "\n",
    "img_max = np.max(img, axis=0)\n",
    "plt.figure(figsize=(10,10))\n",
    "plt.imshow(img_max, cmap='jet')\n",
    "\n",
    "mask = img_max > th_y\n",
    "crop_mask = mask[100:200, 100:200]\n",
    "plt.figure(figsize=(10,10))\n",
    "plt.imshow(mask)\n",
    "\n",
    "label_mask = measure.label(mask)\n",
    "plt.figure(figsize=(10,10))\n",
    "plt.imshow(label_mask, cmap='jet')"
   ]
  },
  {
   "cell_type": "code",
   "execution_count": null,
   "metadata": {},
   "outputs": [],
   "source": [
    "area_dict = {}\n",
    "area_th = 150\n",
    "for label_number in range(1, np.max(label_mask)):\n",
    "    one_label_mask = label_mask == label_number\n",
    "    one_label_area = np.sum(one_label_mask)\n",
    "    \n",
    "    if one_label_area >= area_th:\n",
    "        label_area_dict = {label_number:one_label_area}\n",
    "        area_dict.update(label_area_dict)\n",
    "\n",
    "fin_mask = np.zeros_like(label_mask)\n",
    "for lable_key in area_dict.keys():\n",
    "     key_mask = label_mask == lable_key\n",
    "     fin_mask = fin_mask + key_mask\n",
    "\n",
    "fin_raw_mask = fin_mask\n",
    "fin_mask = morphology.dilation(fin_mask, footprint=morphology.disk(6))\n",
    "# plt.imshow(fin_raw_mask)\n",
    "plt.figure(figsize=(10,10))\n",
    "plt.imshow(fin_mask)\n",
    "\n",
    "\n",
    "fin_mask = measure.label(fin_mask)\n",
    "plt.figure(figsize=(10,10))\n",
    "plt.imshow(fin_mask)"
   ]
  },
  {
   "attachments": {},
   "cell_type": "markdown",
   "metadata": {},
   "source": [
    "#### Watershed segmentation"
   ]
  },
  {
   "cell_type": "code",
   "execution_count": null,
   "metadata": {},
   "outputs": [],
   "source": [
    "from scipy import ndimage as ndi\n",
    "\n",
    "from skimage.segmentation import watershed\n",
    "from skimage.feature import peak_local_max\n",
    "\n",
    "distance = ndi.distance_transform_cdt(fin_mask, metric='taxicab')\n",
    "plt.figure(figsize=(10,10))\n",
    "plt.imshow(distance)\n",
    "\n",
    "# ndi.distance_transform_cdt, metric='taxicab'\n",
    "\n",
    "coords = peak_local_max(distance, min_distance=15, footprint=morphology.disk(15), labels=fin_mask)\n",
    "mask = np.zeros(distance.shape, dtype=bool)\n",
    "mask[tuple(coords.T)] = True\n",
    "markers, _ = ndi.label(mask)\n",
    "labels = watershed(-distance, markers, mask=fin_mask)\n",
    "\n",
    "plt.figure(figsize=(10,10))\n",
    "plt.imshow(labels)"
   ]
  },
  {
   "attachments": {},
   "cell_type": "markdown",
   "metadata": {},
   "source": [
    "#### Profiles extration"
   ]
  },
  {
   "cell_type": "code",
   "execution_count": null,
   "metadata": {},
   "outputs": [],
   "source": [
    "# profile = [np.mean(ma.masked_where(-fin_mask, frame)) for frame in img_raw]\n",
    "\n",
    "plt.figure(figsize=(20, 8))\n",
    "\n",
    "prof_arr = []\n",
    "i = 0\n",
    "for label in range(1, np.max(labels)+1):\n",
    "    mask = labels == label\n",
    "    prof = [np.mean(ma.masked_where(~mask, frame)) for frame in img_raw]\n",
    "    prof_arr.append(prof)\n",
    "    plt.plot(prof, label=label)\n",
    "    i += 200\n",
    "\n",
    "plt.legend()\n",
    "plt.show()\n",
    "\n",
    "prof_arr = np.asarray(prof_arr)\n",
    "\n",
    "print(prof_arr.shape)\n"
   ]
  },
  {
   "attachments": {},
   "cell_type": "markdown",
   "metadata": {},
   "source": [
    "#### Demo labeling"
   ]
  },
  {
   "cell_type": "code",
   "execution_count": null,
   "metadata": {},
   "outputs": [],
   "source": [
    "demo_mask = np.array([[1, 0, 1, 0],\n",
    "                      [0, 0, 1, 1],\n",
    "                      [0, 1, 0, 0],\n",
    "                      [1, 0, 1, 0]])\n",
    "\n",
    "label_demo_mask = measure.label(demo_mask, connectivity=1)\n",
    "\n",
    "print(demo_mask)\n",
    "print(label_demo_mask)\n",
    "plt.imshow(label_demo_mask)"
   ]
  },
  {
   "attachments": {},
   "cell_type": "markdown",
   "metadata": {},
   "source": [
    "# Profile an"
   ]
  },
  {
   "attachments": {},
   "cell_type": "markdown",
   "metadata": {},
   "source": [
    "#### dF/F calc"
   ]
  },
  {
   "cell_type": "code",
   "execution_count": null,
   "metadata": {},
   "outputs": [],
   "source": [
    "dF_prof_arr = []\n",
    "for prof in prof_arr:\n",
    "    F_0 = np.mean(prof[0:50])\n",
    "    dF_prof = (prof - F_0)/F_0\n",
    "    dF_prof_arr.append(dF_prof)\n",
    "\n",
    "dF_prof_arr = np.asarray(dF_prof_arr)\n",
    "plt.figure(figsize=(20, 8))\n",
    "for dF_p in dF_prof_arr:\n",
    "    plt.plot(dF_p)\n",
    "plt.show()    \n",
    "    \n",
    "    "
   ]
  },
  {
   "attachments": {},
   "cell_type": "markdown",
   "metadata": {},
   "source": [
    "#### Peaks detection"
   ]
  },
  {
   "cell_type": "code",
   "execution_count": null,
   "metadata": {},
   "outputs": [],
   "source": [
    "one_profile = dF_prof_arr[2]\n",
    "\n",
    "peaks, properties = signal.find_peaks(one_profile,\n",
    "                                      height=0.2,\n",
    "                                      distance=5,\n",
    "                                      wlen=30,\n",
    "                                      prominence=0.15,\n",
    "                                      rel_height=0.5,\n",
    "                                      width=1)\n",
    "\n",
    "print(peaks)\n",
    "print(properties.keys())\n",
    "print(properties)"
   ]
  },
  {
   "cell_type": "code",
   "execution_count": null,
   "metadata": {},
   "outputs": [],
   "source": [
    "\n",
    "plt.figure(figsize=(20, 8))\n",
    "plt.plot(one_profile)\n",
    "plt.plot(peaks, one_profile[peaks], 'x')\n"
   ]
  }
 ],
 "metadata": {
  "kernelspec": {
   "display_name": "caiman",
   "language": "python",
   "name": "python3"
  },
  "language_info": {
   "codemirror_mode": {
    "name": "ipython",
    "version": 3
   },
   "file_extension": ".py",
   "mimetype": "text/x-python",
   "name": "python",
   "nbconvert_exporter": "python",
   "pygments_lexer": "ipython3",
   "version": "3.10.8"
  },
  "orig_nbformat": 4
 },
 "nbformat": 4,
 "nbformat_minor": 2
}
